{
 "cells": [
  {
   "cell_type": "markdown",
   "id": "durable-spouse",
   "metadata": {},
   "source": [
    "<h1> Problem 1 : basic arithmetic operations<h1>"
   ]
  },
  {
   "cell_type": "code",
   "execution_count": 3,
   "id": "desperate-taste",
   "metadata": {},
   "outputs": [
    {
     "name": "stdout",
     "output_type": "stream",
     "text": [
      "Enter which operation would you like to perform?\n",
      "Enter any of these char for specific operation +,-,*,/: /\n",
      "enter first number: 10\n",
      "enter second number: 5\n",
      "10 / 5 : 2.0\n"
     ]
    }
   ],
   "source": [
    "print(\"Enter which operation would you like to perform?\")\n",
    "ch = input(\"Enter any of these char for specific operation +,-,*,/: \")\n",
    "\n",
    "a = int(input(\"enter first number: \"))\n",
    "b = int(input(\"enter second number: \"))\n",
    "result = 0\n",
    "if ch == '+':\n",
    "    result = a + b\n",
    "elif ch == '-':\n",
    "    result = a - b\n",
    "elif ch == '*':\n",
    "    result = a * b\n",
    "elif ch == '/':\n",
    "    result = a / b\n",
    "else:\n",
    "    print(\"Input character is not recognized!\")\n",
    "\n",
    "print(a, ch , b, \":\", result)\n"
   ]
  },
  {
   "cell_type": "markdown",
   "id": "cooked-category",
   "metadata": {},
   "source": [
    "<h1>problem 2 :generate a triangular number<h1>"
   ]
  },
  {
   "cell_type": "code",
   "execution_count": 21,
   "id": "responsible-resident",
   "metadata": {},
   "outputs": [
    {
     "name": "stdout",
     "output_type": "stream",
     "text": [
      "n = 1, triangle = 1\n",
      "n = 2, triangle = 3\n",
      "n = 3, triangle = 6\n",
      "n = 4, triangle = 10\n",
      "n = 5, triangle = 15\n"
     ]
    }
   ],
   "source": [
    "def all_triangle_numbers(n):\n",
    "    for i in range(1, n + 1):   \n",
    "        print(\"n = {0}, triangle = {1}\".format(i, (i ** 2 + i)//2))\n",
    "\n",
    "all_triangle_numbers(5) "
   ]
  },
  {
   "cell_type": "markdown",
   "id": "revolutionary-polish",
   "metadata": {},
   "source": [
    "<h1>problem 3: Read pasword<h1>"
   ]
  },
  {
   "cell_type": "code",
   "execution_count": 3,
   "id": "varying-stockholm",
   "metadata": {},
   "outputs": [
    {
     "name": "stdout",
     "output_type": "stream",
     "text": [
      "Password: Python\n",
      "Welcome to Python Programming\n"
     ]
    }
   ],
   "source": [
    "count = 0 \n",
    "while True: \n",
    "    password = input(\"Password: \") \n",
    "    count += 1\n",
    "    if count == 3: \n",
    "        \n",
    "        break \n",
    "    else:\n",
    "        if password == 'Python':\n",
    "            print(\"Welcome to Python Programming\")\n",
    "            break \n",
    "            \n",
    "        else:\n",
    "            print(\"Wrong password\")"
   ]
  },
  {
   "cell_type": "markdown",
   "id": "conventional-vegetable",
   "metadata": {},
   "source": [
    "<h1>problem 5: countVowel<h1>"
   ]
  },
  {
   "cell_type": "code",
   "execution_count": 8,
   "id": "curious-hurricane",
   "metadata": {},
   "outputs": [
    {
     "name": "stdout",
     "output_type": "stream",
     "text": [
      "3\n"
     ]
    }
   ],
   "source": [
    "vowelletters = (\"a\",\"e\",\"i\",\"o\",\"u\")\n",
    "\n",
    "def countVowels(word):\n",
    "    word = word.lower()\n",
    "\n",
    "    count = 0\n",
    "    for char in word:\n",
    "        if char in vowelletters:\n",
    "            count += 1\n",
    "\n",
    "    return count\n",
    "\n",
    "y = countVowels(\"supercat\")\n",
    "print(y)"
   ]
  },
  {
   "cell_type": "markdown",
   "id": "placed-twelve",
   "metadata": {},
   "source": [
    "<h1>problem 6: palindrome or not<h1>"
   ]
  },
  {
   "cell_type": "code",
   "execution_count": 11,
   "id": "covered-stuart",
   "metadata": {},
   "outputs": [
    {
     "name": "stdout",
     "output_type": "stream",
     "text": [
      "Palindrome\n"
     ]
    }
   ],
   "source": [
    "def is_Lst_Palindrome(Lst):\n",
    "    return Lst == Lst[::-1]\n",
    " \n",
    " \n",
    "Lst = ['1','2','3','2','1']\n",
    "ans = is_Lst_Palindrome(Lst)\n",
    " \n",
    "if ans:\n",
    "    print(\"Palindrome\")\n",
    "else:\n",
    "    print(\"Not palindrome\")"
   ]
  },
  {
   "cell_type": "markdown",
   "id": "duplicate-excitement",
   "metadata": {},
   "source": [
    "<h1>problem 7: prime number<h1>"
   ]
  },
  {
   "cell_type": "code",
   "execution_count": 13,
   "id": "hollywood-inventory",
   "metadata": {},
   "outputs": [
    {
     "name": "stdout",
     "output_type": "stream",
     "text": [
      "Prime numbers between 1 and 100 are:\n",
      "2\n",
      "3\n",
      "5\n",
      "7\n",
      "11\n",
      "13\n",
      "17\n",
      "19\n",
      "23\n",
      "29\n",
      "31\n",
      "37\n",
      "41\n",
      "43\n",
      "47\n",
      "53\n",
      "59\n",
      "61\n",
      "67\n",
      "71\n",
      "73\n",
      "79\n",
      "83\n",
      "89\n",
      "97\n"
     ]
    }
   ],
   "source": [
    "lower = 1\n",
    "upper = 100\n",
    "\n",
    "print(\"Prime numbers between\", lower, \"and\", upper, \"are:\")\n",
    "\n",
    "for num in range(lower, upper + 1):\n",
    "   if num > 1:\n",
    "       for i in range(2, num):\n",
    "           if (num % i) == 0:\n",
    "               break\n",
    "       else:\n",
    "           print(num)"
   ]
  },
  {
   "cell_type": "markdown",
   "id": "fiscal-median",
   "metadata": {},
   "source": [
    "<h1>problem 8: display pattern<h1>"
   ]
  },
  {
   "cell_type": "code",
   "execution_count": 4,
   "id": "competitive-arizona",
   "metadata": {},
   "outputs": [
    {
     "name": "stdout",
     "output_type": "stream",
     "text": [
      "1 \n",
      "1 2 \n",
      "1 2 3 \n",
      "1 2 3 4 \n"
     ]
    }
   ],
   "source": [
    "rows = 4\n",
    "for i in range(1, rows + 1):\n",
    "    for j in range(1, i + 1):\n",
    "         print(j, end=' ')\n",
    "          \n",
    "   \n",
    "        \n",
    "    print('')"
   ]
  },
  {
   "cell_type": "markdown",
   "id": "boring-shuttle",
   "metadata": {},
   "source": [
    "<h1>problem 9: compound interest<h1>"
   ]
  },
  {
   "cell_type": "code",
   "execution_count": 35,
   "id": "worldwide-charter",
   "metadata": {},
   "outputs": [
    {
     "name": "stdout",
     "output_type": "stream",
     "text": [
      "Enter the principle amount : 10000\n",
      "Enter the rate  : 3.5\n",
      "Enter the time span : 1\n",
      "amount : 10350.00 \n"
     ]
    }
   ],
   "source": [
    "p = float(input(\"Enter the principle amount : \"))\n",
    "r = float(input(\"Enter the rate  : \"))\n",
    "t = float(input(\"Enter the time span : \"))\n",
    "c=r/100\n",
    "A=(p * (1 + c)**t)\n",
    "print(\"amount : %.2f \" %A)"
   ]
  },
  {
   "cell_type": "code",
   "execution_count": 36,
   "id": "spoken-green",
   "metadata": {},
   "outputs": [
    {
     "name": "stdout",
     "output_type": "stream",
     "text": [
      "Compound Interest : 350.00 \n"
     ]
    }
   ],
   "source": [
    "ci=A-p\n",
    "   \n",
    "print(\"Compound Interest : %.2f \" %ci)"
   ]
  },
  {
   "cell_type": "code",
   "execution_count": null,
   "id": "exceptional-cargo",
   "metadata": {},
   "outputs": [],
   "source": []
  }
 ],
 "metadata": {
  "kernelspec": {
   "display_name": "Python 3",
   "language": "python",
   "name": "python3"
  },
  "language_info": {
   "codemirror_mode": {
    "name": "ipython",
    "version": 3
   },
   "file_extension": ".py",
   "mimetype": "text/x-python",
   "name": "python",
   "nbconvert_exporter": "python",
   "pygments_lexer": "ipython3",
   "version": "3.9.2"
  }
 },
 "nbformat": 4,
 "nbformat_minor": 5
}
